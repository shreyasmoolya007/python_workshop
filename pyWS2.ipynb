{
  "nbformat": 4,
  "nbformat_minor": 0,
  "metadata": {
    "colab": {
      "name": "pyWS2.ipynb",
      "provenance": [],
      "authorship_tag": "ABX9TyNpW0+41yeb6CJc+0SrdHIL",
      "include_colab_link": true
    },
    "kernelspec": {
      "name": "python3",
      "display_name": "Python 3"
    }
  },
  "cells": [
    {
      "cell_type": "markdown",
      "metadata": {
        "id": "view-in-github",
        "colab_type": "text"
      },
      "source": [
        "<a href=\"https://colab.research.google.com/github/shreyasmoolya007/python_workshop/blob/main/pyWS2.ipynb\" target=\"_parent\"><img src=\"https://colab.research.google.com/assets/colab-badge.svg\" alt=\"Open In Colab\"/></a>"
      ]
    },
    {
      "cell_type": "code",
      "metadata": {
        "colab": {
          "base_uri": "https://localhost:8080/"
        },
        "id": "0imLeRxd7GJ3",
        "outputId": "7d1ad26a-8184-4c7e-a1e1-6d90d0d664a0"
      },
      "source": [
        "numbers={1,2,3,4}\r\n",
        "print(numbers)"
      ],
      "execution_count": 3,
      "outputs": [
        {
          "output_type": "stream",
          "text": [
            "{1, 2, 3, 4}\n"
          ],
          "name": "stdout"
        }
      ]
    },
    {
      "cell_type": "code",
      "metadata": {
        "colab": {
          "base_uri": "https://localhost:8080/"
        },
        "id": "cuFOe_49-n9Q",
        "outputId": "774bffcc-1030-4401-c04e-7ac0bab5472e"
      },
      "source": [
        "a=set(('a','b','c','d'))\r\n",
        "print(a)\r\n",
        "a.add(\"mech\")\r\n",
        "print(a)\r\n",
        "print(len(a))"
      ],
      "execution_count": 9,
      "outputs": [
        {
          "output_type": "stream",
          "text": [
            "{'d', 'a', 'b', 'c'}\n",
            "{'d', 'b', 'c', 'a', 'mech'}\n",
            "5\n"
          ],
          "name": "stdout"
        }
      ]
    },
    {
      "cell_type": "code",
      "metadata": {
        "colab": {
          "base_uri": "https://localhost:8080/"
        },
        "id": "cIKl6z5cAKyI",
        "outputId": "8ad3f2e5-378b-48a2-c2bc-b6f2fd10e4db"
      },
      "source": [
        "a=set(('ise','cse','ece','mech'))\r\n",
        "print(a)\r\n",
        "a.add(\"mech\")\r\n",
        "print(a)"
      ],
      "execution_count": 12,
      "outputs": [
        {
          "output_type": "stream",
          "text": [
            "{'ece', 'cse', 'mech', 'ise'}\n",
            "{'ece', 'cse', 'mech', 'ise'}\n"
          ],
          "name": "stdout"
        }
      ]
    },
    {
      "cell_type": "code",
      "metadata": {
        "colab": {
          "base_uri": "https://localhost:8080/"
        },
        "id": "JqoKs0UcAz13",
        "outputId": "7a2ef9d8-7b6b-4316-90d3-09588e3b4461"
      },
      "source": [
        "a=set(('ise','cse','ece','mech'))\r\n",
        "print(a)\r\n",
        "a.remove(\"mech\")\r\n",
        "print(a)"
      ],
      "execution_count": 13,
      "outputs": [
        {
          "output_type": "stream",
          "text": [
            "{'ece', 'cse', 'mech', 'ise'}\n",
            "{'ece', 'cse', 'ise'}\n"
          ],
          "name": "stdout"
        }
      ]
    },
    {
      "cell_type": "code",
      "metadata": {
        "colab": {
          "base_uri": "https://localhost:8080/"
        },
        "id": "AI8e8aztBTcQ",
        "outputId": "77a37aef-195e-4922-cd7a-705138b6e216"
      },
      "source": [
        "a=set(('ise','cse','ece','mech'))\r\n",
        "deleted=a.pop()\r\n",
        "print(deleted)\r\n",
        "print(a)"
      ],
      "execution_count": 19,
      "outputs": [
        {
          "output_type": "stream",
          "text": [
            "ece\n",
            "{'cse', 'mech', 'ise'}\n"
          ],
          "name": "stdout"
        }
      ]
    },
    {
      "cell_type": "code",
      "metadata": {
        "colab": {
          "base_uri": "https://localhost:8080/"
        },
        "id": "WIzV11teBzmx",
        "outputId": "95559e50-5259-49ad-93e2-3e057916102f"
      },
      "source": [
        "thisset={\"apple\",\"banana\",\"cherry\"}\r\n",
        "thisset.clear()\r\n",
        "print(thisset)\r\n",
        "print(len(thisset))"
      ],
      "execution_count": 21,
      "outputs": [
        {
          "output_type": "stream",
          "text": [
            "set()\n",
            "0\n"
          ],
          "name": "stdout"
        }
      ]
    },
    {
      "cell_type": "code",
      "metadata": {
        "colab": {
          "base_uri": "https://localhost:8080/",
          "height": 197
        },
        "id": "DYxusf2aCeOn",
        "outputId": "7d1109ab-b21d-4274-be3c-a6401394b621"
      },
      "source": [
        "thisset={\"apple\",\"banana\",\"cherry\"}\r\n",
        "del thisset\r\n",
        "print(thisset)"
      ],
      "execution_count": 24,
      "outputs": [
        {
          "output_type": "error",
          "ename": "NameError",
          "evalue": "ignored",
          "traceback": [
            "\u001b[0;31m---------------------------------------------------------------------------\u001b[0m",
            "\u001b[0;31mNameError\u001b[0m                                 Traceback (most recent call last)",
            "\u001b[0;32m<ipython-input-24-195fb746af3d>\u001b[0m in \u001b[0;36m<module>\u001b[0;34m()\u001b[0m\n\u001b[1;32m      1\u001b[0m \u001b[0mthisset\u001b[0m\u001b[0;34m=\u001b[0m\u001b[0;34m{\u001b[0m\u001b[0;34m\"apple\"\u001b[0m\u001b[0;34m,\u001b[0m\u001b[0;34m\"banana\"\u001b[0m\u001b[0;34m,\u001b[0m\u001b[0;34m\"cherry\"\u001b[0m\u001b[0;34m}\u001b[0m\u001b[0;34m\u001b[0m\u001b[0;34m\u001b[0m\u001b[0m\n\u001b[1;32m      2\u001b[0m \u001b[0;32mdel\u001b[0m \u001b[0mthisset\u001b[0m\u001b[0;34m\u001b[0m\u001b[0;34m\u001b[0m\u001b[0m\n\u001b[0;32m----> 3\u001b[0;31m \u001b[0mprint\u001b[0m\u001b[0;34m(\u001b[0m\u001b[0mthisset\u001b[0m\u001b[0;34m)\u001b[0m\u001b[0;34m\u001b[0m\u001b[0;34m\u001b[0m\u001b[0m\n\u001b[0m",
            "\u001b[0;31mNameError\u001b[0m: name 'thisset' is not defined"
          ]
        }
      ]
    },
    {
      "cell_type": "code",
      "metadata": {
        "colab": {
          "base_uri": "https://localhost:8080/"
        },
        "id": "RXLZj2ACC0eo",
        "outputId": "70db4701-f7c5-4253-a50f-927e3570dc57"
      },
      "source": [
        "set1={\"a\",\"b\",\"c\",\"d\"}\r\n",
        "set2={\"1\",\"2\",\"3\",\"4\"}\r\n",
        "set3=set1.union(set2)\r\n",
        "print(set3)"
      ],
      "execution_count": 27,
      "outputs": [
        {
          "output_type": "stream",
          "text": [
            "{'3', '1', '2', 'd', 'b', '4', 'c', 'a'}\n"
          ],
          "name": "stdout"
        }
      ]
    },
    {
      "cell_type": "code",
      "metadata": {
        "colab": {
          "base_uri": "https://localhost:8080/"
        },
        "id": "dS5ieTm6DmXC",
        "outputId": "a6963ae5-4bf3-4d61-a972-80323ba5348e"
      },
      "source": [
        "thisset={\"apple\",\"banana\",\"cherry\"}\r\n",
        "tropical={\"pineapple\",\"mango\",\"papaya\"}\r\n",
        "thisset.update(tropical)\r\n",
        "print(thisset)"
      ],
      "execution_count": 29,
      "outputs": [
        {
          "output_type": "stream",
          "text": [
            "{'mango', 'cherry', 'apple', 'banana', 'pineapple', 'papaya'}\n"
          ],
          "name": "stdout"
        }
      ]
    },
    {
      "cell_type": "code",
      "metadata": {
        "colab": {
          "base_uri": "https://localhost:8080/"
        },
        "id": "_p1uofloEaGw",
        "outputId": "036010f8-6c91-4b4e-b77c-055929cb09ee"
      },
      "source": [
        "thisset={\"apple\",\"banana\",\"cherry\"}\r\n",
        "tropical={\"pineapple\",\"mango\",\"papaya\",\"apple\"}\r\n",
        "thisset.update(tropical)\r\n",
        "print(thisset)"
      ],
      "execution_count": 30,
      "outputs": [
        {
          "output_type": "stream",
          "text": [
            "{'mango', 'cherry', 'apple', 'banana', 'pineapple', 'papaya'}\n"
          ],
          "name": "stdout"
        }
      ]
    },
    {
      "cell_type": "code",
      "metadata": {
        "colab": {
          "base_uri": "https://localhost:8080/"
        },
        "id": "swIGI5myEytR",
        "outputId": "e4abb2ba-28a1-4588-e9cf-587f16d7c04d"
      },
      "source": [
        "a=[1,2,3,4,5,1,2]\r\n",
        "s=set(a)\r\n",
        "print(s)"
      ],
      "execution_count": 33,
      "outputs": [
        {
          "output_type": "stream",
          "text": [
            "{1, 2, 3, 4, 5}\n"
          ],
          "name": "stdout"
        }
      ]
    },
    {
      "cell_type": "code",
      "metadata": {
        "colab": {
          "base_uri": "https://localhost:8080/"
        },
        "id": "kxYSmbWEFmUZ",
        "outputId": "974d1329-0537-4512-909b-956f8e743a23"
      },
      "source": [
        "thisset={\"apple\",\"banana\",\"cherry\"}\r\n",
        "thisset.add(\"orange\")\r\n",
        "print(thisset)"
      ],
      "execution_count": 34,
      "outputs": [
        {
          "output_type": "stream",
          "text": [
            "{'orange', 'banana', 'cherry', 'apple'}\n"
          ],
          "name": "stdout"
        }
      ]
    },
    {
      "cell_type": "code",
      "metadata": {
        "colab": {
          "base_uri": "https://localhost:8080/"
        },
        "id": "_KoKrwpuGB_x",
        "outputId": "f7a761b8-7263-43f4-8fb1-9b52a050605c"
      },
      "source": [
        "fruits={\"apple\",\"banana\",\"cherry\"}\r\n",
        "more_fruits=[\"mango\",\"pineapple\",\"grapes\"]\r\n",
        "fruits.update(more_fruits)\r\n",
        "print(fruits)"
      ],
      "execution_count": 37,
      "outputs": [
        {
          "output_type": "stream",
          "text": [
            "{'mango', 'grapes', 'banana', 'apple', 'cherry', 'pineapple'}\n"
          ],
          "name": "stdout"
        }
      ]
    },
    {
      "cell_type": "code",
      "metadata": {
        "colab": {
          "base_uri": "https://localhost:8080/"
        },
        "id": "XpYp0Z7vGm4x",
        "outputId": "90c47809-a330-49ba-f0dc-8a60d5d262eb"
      },
      "source": [
        "thisset={\"apple\",\"banana\",\"cherry\"}\r\n",
        "thisset.remove(\"banana\")\r\n",
        "print(thisset)"
      ],
      "execution_count": 40,
      "outputs": [
        {
          "output_type": "stream",
          "text": [
            "{'cherry', 'apple'}\n"
          ],
          "name": "stdout"
        }
      ]
    },
    {
      "cell_type": "code",
      "metadata": {
        "colab": {
          "base_uri": "https://localhost:8080/"
        },
        "id": "zhKzYvduHQv5",
        "outputId": "726c6e61-65f3-4eaa-a122-4658e0647f6c"
      },
      "source": [
        "thisset={\"apple\",\"banana\",\"cherry\"}\r\n",
        "thisset.discard(\"banana\")\r\n",
        "print(thisset)"
      ],
      "execution_count": 41,
      "outputs": [
        {
          "output_type": "stream",
          "text": [
            "{'cherry', 'apple'}\n"
          ],
          "name": "stdout"
        }
      ]
    },
    {
      "cell_type": "code",
      "metadata": {
        "colab": {
          "base_uri": "https://localhost:8080/"
        },
        "id": "4Z4tJHysHjto",
        "outputId": "b35b6c54-3836-4fca-bdd2-2d1dd1fcaad3"
      },
      "source": [
        "a=set([1,2,1,2,3])\r\n",
        "print(len(a))\r\n",
        "print(a)"
      ],
      "execution_count": 47,
      "outputs": [
        {
          "output_type": "stream",
          "text": [
            "3\n",
            "{1, 2, 3}\n"
          ],
          "name": "stdout"
        }
      ]
    },
    {
      "cell_type": "code",
      "metadata": {
        "colab": {
          "base_uri": "https://localhost:8080/"
        },
        "id": "kvo4guytI-tJ",
        "outputId": "0d9f1543-6d73-42d3-a6af-87913bc930ba"
      },
      "source": [
        "today={\r\n",
        "    \"day\":\"thursday\",\r\n",
        "    \"date\":\"7-1-2021\",\r\n",
        "    \"month\":\"january\"\r\n",
        "}\r\n",
        "print(today)"
      ],
      "execution_count": 52,
      "outputs": [
        {
          "output_type": "stream",
          "text": [
            "{'day': 'thursday', 'date': '7-1-2021', 'month': 'january'}\n"
          ],
          "name": "stdout"
        }
      ]
    },
    {
      "cell_type": "code",
      "metadata": {
        "colab": {
          "base_uri": "https://localhost:8080/"
        },
        "id": "HlADhvFYKEsQ",
        "outputId": "e9395dd5-1c99-405f-bb13-3695b364f59d"
      },
      "source": [
        "help(list)"
      ],
      "execution_count": 55,
      "outputs": [
        {
          "output_type": "stream",
          "text": [
            "Help on class list in module builtins:\n",
            "\n",
            "class list(object)\n",
            " |  list() -> new empty list\n",
            " |  list(iterable) -> new list initialized from iterable's items\n",
            " |  \n",
            " |  Methods defined here:\n",
            " |  \n",
            " |  __add__(self, value, /)\n",
            " |      Return self+value.\n",
            " |  \n",
            " |  __contains__(self, key, /)\n",
            " |      Return key in self.\n",
            " |  \n",
            " |  __delitem__(self, key, /)\n",
            " |      Delete self[key].\n",
            " |  \n",
            " |  __eq__(self, value, /)\n",
            " |      Return self==value.\n",
            " |  \n",
            " |  __ge__(self, value, /)\n",
            " |      Return self>=value.\n",
            " |  \n",
            " |  __getattribute__(self, name, /)\n",
            " |      Return getattr(self, name).\n",
            " |  \n",
            " |  __getitem__(...)\n",
            " |      x.__getitem__(y) <==> x[y]\n",
            " |  \n",
            " |  __gt__(self, value, /)\n",
            " |      Return self>value.\n",
            " |  \n",
            " |  __iadd__(self, value, /)\n",
            " |      Implement self+=value.\n",
            " |  \n",
            " |  __imul__(self, value, /)\n",
            " |      Implement self*=value.\n",
            " |  \n",
            " |  __init__(self, /, *args, **kwargs)\n",
            " |      Initialize self.  See help(type(self)) for accurate signature.\n",
            " |  \n",
            " |  __iter__(self, /)\n",
            " |      Implement iter(self).\n",
            " |  \n",
            " |  __le__(self, value, /)\n",
            " |      Return self<=value.\n",
            " |  \n",
            " |  __len__(self, /)\n",
            " |      Return len(self).\n",
            " |  \n",
            " |  __lt__(self, value, /)\n",
            " |      Return self<value.\n",
            " |  \n",
            " |  __mul__(self, value, /)\n",
            " |      Return self*value.\n",
            " |  \n",
            " |  __ne__(self, value, /)\n",
            " |      Return self!=value.\n",
            " |  \n",
            " |  __new__(*args, **kwargs) from builtins.type\n",
            " |      Create and return a new object.  See help(type) for accurate signature.\n",
            " |  \n",
            " |  __repr__(self, /)\n",
            " |      Return repr(self).\n",
            " |  \n",
            " |  __reversed__(...)\n",
            " |      L.__reversed__() -- return a reverse iterator over the list\n",
            " |  \n",
            " |  __rmul__(self, value, /)\n",
            " |      Return value*self.\n",
            " |  \n",
            " |  __setitem__(self, key, value, /)\n",
            " |      Set self[key] to value.\n",
            " |  \n",
            " |  __sizeof__(...)\n",
            " |      L.__sizeof__() -- size of L in memory, in bytes\n",
            " |  \n",
            " |  append(...)\n",
            " |      L.append(object) -> None -- append object to end\n",
            " |  \n",
            " |  clear(...)\n",
            " |      L.clear() -> None -- remove all items from L\n",
            " |  \n",
            " |  copy(...)\n",
            " |      L.copy() -> list -- a shallow copy of L\n",
            " |  \n",
            " |  count(...)\n",
            " |      L.count(value) -> integer -- return number of occurrences of value\n",
            " |  \n",
            " |  extend(...)\n",
            " |      L.extend(iterable) -> None -- extend list by appending elements from the iterable\n",
            " |  \n",
            " |  index(...)\n",
            " |      L.index(value, [start, [stop]]) -> integer -- return first index of value.\n",
            " |      Raises ValueError if the value is not present.\n",
            " |  \n",
            " |  insert(...)\n",
            " |      L.insert(index, object) -- insert object before index\n",
            " |  \n",
            " |  pop(...)\n",
            " |      L.pop([index]) -> item -- remove and return item at index (default last).\n",
            " |      Raises IndexError if list is empty or index is out of range.\n",
            " |  \n",
            " |  remove(...)\n",
            " |      L.remove(value) -> None -- remove first occurrence of value.\n",
            " |      Raises ValueError if the value is not present.\n",
            " |  \n",
            " |  reverse(...)\n",
            " |      L.reverse() -- reverse *IN PLACE*\n",
            " |  \n",
            " |  sort(...)\n",
            " |      L.sort(key=None, reverse=False) -> None -- stable sort *IN PLACE*\n",
            " |  \n",
            " |  ----------------------------------------------------------------------\n",
            " |  Data and other attributes defined here:\n",
            " |  \n",
            " |  __hash__ = None\n",
            "\n"
          ],
          "name": "stdout"
        }
      ]
    },
    {
      "cell_type": "code",
      "metadata": {
        "colab": {
          "base_uri": "https://localhost:8080/"
        },
        "id": "84ymEfCvLCSy",
        "outputId": "fac52f43-f69d-42b9-f341-9e0a5ef6902e"
      },
      "source": [
        "thisdict={\r\n",
        "    \"day\":\"thursday\",\r\n",
        "    \"date\":\"7-1-2021\",\r\n",
        "    \"month\":\"january\"\r\n",
        "}\r\n",
        "print(len(thisdict))"
      ],
      "execution_count": 57,
      "outputs": [
        {
          "output_type": "stream",
          "text": [
            "3\n"
          ],
          "name": "stdout"
        }
      ]
    },
    {
      "cell_type": "code",
      "metadata": {
        "colab": {
          "base_uri": "https://localhost:8080/"
        },
        "id": "1M9uSWt2LqTc",
        "outputId": "70bb1162-e894-451b-a51e-0e823c3c59d3"
      },
      "source": [
        "today={\r\n",
        "    \"day\":\"thursday\",\r\n",
        "    \"date\":\"7-1-2021\",\r\n",
        "    \"month\":\"january\"\r\n",
        "}\r\n",
        "x=today[\"day\"]\r\n",
        "print(x)\r\n",
        "print(len(x))"
      ],
      "execution_count": 61,
      "outputs": [
        {
          "output_type": "stream",
          "text": [
            "thursday\n",
            "8\n"
          ],
          "name": "stdout"
        }
      ]
    },
    {
      "cell_type": "code",
      "metadata": {
        "colab": {
          "base_uri": "https://localhost:8080/"
        },
        "id": "1T0GqXB2MPYp",
        "outputId": "5d137f3d-c2d3-4250-a688-d58fddf01c8c"
      },
      "source": [
        "today={\r\n",
        "    \"day\":\"thursday\",\r\n",
        "    \"date\":\"7-1-2021\",\r\n",
        "    \"month\":\"january\"\r\n",
        "}\r\n",
        "x=today.keys()\r\n",
        "print(x)\r\n",
        "print(today.values())"
      ],
      "execution_count": 63,
      "outputs": [
        {
          "output_type": "stream",
          "text": [
            "dict_keys(['day', 'date', 'month'])\n",
            "dict_values(['thursday', '7-1-2021', 'january'])\n"
          ],
          "name": "stdout"
        }
      ]
    },
    {
      "cell_type": "code",
      "metadata": {
        "colab": {
          "base_uri": "https://localhost:8080/"
        },
        "id": "AUUuyhdzNJma",
        "outputId": "340ea243-bfa4-4079-f757-53c1dc6a6265"
      },
      "source": [
        "today={\r\n",
        "    \"day\":\"thursday\",\r\n",
        "    \"date\":\"7-1-2021\",\r\n",
        "    \"month\":\"january\"\r\n",
        "}\r\n",
        "today[\"month\"]=\"aujust\"\r\n",
        "print(today)"
      ],
      "execution_count": 64,
      "outputs": [
        {
          "output_type": "stream",
          "text": [
            "{'day': 'thursday', 'date': '7-1-2021', 'month': 'aujust'}\n"
          ],
          "name": "stdout"
        }
      ]
    },
    {
      "cell_type": "code",
      "metadata": {
        "colab": {
          "base_uri": "https://localhost:8080/"
        },
        "id": "K_RDvGedOUPU",
        "outputId": "adbcc124-8b84-40d5-b337-79d62dafa1c6"
      },
      "source": [
        "today={\r\n",
        "    \"day\":\"thursday\",\r\n",
        "    \"date\":\"7-1-2021\",\r\n",
        "    \"month\":\"january\"\r\n",
        "}\r\n",
        "today[\"year\"]=2021\r\n",
        "print(today)"
      ],
      "execution_count": 65,
      "outputs": [
        {
          "output_type": "stream",
          "text": [
            "{'day': 'thursday', 'date': '7-1-2021', 'month': 'january', 'year': 2021}\n"
          ],
          "name": "stdout"
        }
      ]
    },
    {
      "cell_type": "code",
      "metadata": {
        "colab": {
          "base_uri": "https://localhost:8080/"
        },
        "id": "cXw44PzFO2w7",
        "outputId": "63657a80-1238-4c8a-b8ec-57cac525db31"
      },
      "source": [
        "today={\r\n",
        "    \"day\":\"thursday\",\r\n",
        "    \"date\":\"7-1-2021\",\r\n",
        "    \"month\":\"january\"\r\n",
        "}\r\n",
        "today.update({\"year\":2021})\r\n",
        "print(today)"
      ],
      "execution_count": 67,
      "outputs": [
        {
          "output_type": "stream",
          "text": [
            "{'day': 'thursday', 'date': '7-1-2021', 'month': 'january', 'year': 2021}\n"
          ],
          "name": "stdout"
        }
      ]
    },
    {
      "cell_type": "code",
      "metadata": {
        "colab": {
          "base_uri": "https://localhost:8080/"
        },
        "id": "3lHMhiKQPFwJ",
        "outputId": "a5454324-7c2b-48a3-ad80-5f934dfe5d1f"
      },
      "source": [
        "today={\r\n",
        "    \"day\":\"thursday\",\r\n",
        "    \"date\":\"7-1-2021\",\r\n",
        "    \"month\":\"january\"\r\n",
        "}\r\n",
        "today.pop(\"month\")\r\n",
        "print(today)"
      ],
      "execution_count": 68,
      "outputs": [
        {
          "output_type": "stream",
          "text": [
            "{'day': 'thursday', 'date': '7-1-2021'}\n"
          ],
          "name": "stdout"
        }
      ]
    },
    {
      "cell_type": "code",
      "metadata": {
        "colab": {
          "base_uri": "https://localhost:8080/"
        },
        "id": "4AUY__ejPmVS",
        "outputId": "6cc61ff8-427f-4def-98be-7bcba9849e9c"
      },
      "source": [
        "today={\r\n",
        "    \"day\":\"thursday\",\r\n",
        "    \"date\":\"7-1-2021\",\r\n",
        "    \"month\":\"january\"\r\n",
        "}\r\n",
        "today.popitem()\r\n",
        "print(today)"
      ],
      "execution_count": 69,
      "outputs": [
        {
          "output_type": "stream",
          "text": [
            "{'day': 'thursday', 'date': '7-1-2021'}\n"
          ],
          "name": "stdout"
        }
      ]
    },
    {
      "cell_type": "code",
      "metadata": {
        "colab": {
          "base_uri": "https://localhost:8080/"
        },
        "id": "TNTqlW5DQLFq",
        "outputId": "7949e6d4-9c17-4a7c-ee16-eb13d2021e32"
      },
      "source": [
        "today={\r\n",
        "    \"day\":\"thursday\",\r\n",
        "    \"date\":\"7-1-2021\",\r\n",
        "    \"month\":\"january\"\r\n",
        "}\r\n",
        "del today[\"month\"]\r\n",
        "print(today)"
      ],
      "execution_count": 70,
      "outputs": [
        {
          "output_type": "stream",
          "text": [
            "{'day': 'thursday', 'date': '7-1-2021'}\n"
          ],
          "name": "stdout"
        }
      ]
    },
    {
      "cell_type": "code",
      "metadata": {
        "colab": {
          "base_uri": "https://localhost:8080/"
        },
        "id": "greaZxN9ZS20",
        "outputId": "2034d8e4-ac7f-4683-abc0-b4b1d7942e95"
      },
      "source": [
        "a=50\r\n",
        "b=100\r\n",
        "if b>a:\r\n",
        "  print(\"b is greater than a\")"
      ],
      "execution_count": 75,
      "outputs": [
        {
          "output_type": "stream",
          "text": [
            "b is greater than a\n"
          ],
          "name": "stdout"
        }
      ]
    },
    {
      "cell_type": "code",
      "metadata": {
        "colab": {
          "base_uri": "https://localhost:8080/"
        },
        "id": "IGifVg-ZZ3az",
        "outputId": "9613811f-3d07-4da8-bb87-6fbd4f8ddef3"
      },
      "source": [
        "a,b,c=[int(input(\"enter the value \")),int(input(\"enter the value \")),int(input(\"enter the value \"))]\r\n",
        "if a>b:\r\n",
        "  if a>c:\r\n",
        "    print(\"a is greater\")\r\n",
        "  else:\r\n",
        "    print(\"c is greater\")\r\n",
        "elif b>c:\r\n",
        "  print(\"b is greater\")\r\n",
        "else:\r\n",
        "  print(\"c is greater\")"
      ],
      "execution_count": 89,
      "outputs": [
        {
          "output_type": "stream",
          "text": [
            "enter the value 50\n",
            "enter the value 100\n",
            "enter the value 150\n",
            "c is greater\n"
          ],
          "name": "stdout"
        }
      ]
    },
    {
      "cell_type": "code",
      "metadata": {
        "colab": {
          "base_uri": "https://localhost:8080/"
        },
        "id": "GeLE-s80fb7z",
        "outputId": "16f9f5d7-deed-403a-d375-c46fd790bfa4"
      },
      "source": [
        "i=1\r\n",
        "while i<6:\r\n",
        "  print(i)\r\n",
        "  i+=1"
      ],
      "execution_count": 88,
      "outputs": [
        {
          "output_type": "stream",
          "text": [
            "1\n",
            "2\n",
            "3\n",
            "4\n",
            "5\n"
          ],
          "name": "stdout"
        }
      ]
    },
    {
      "cell_type": "code",
      "metadata": {
        "colab": {
          "base_uri": "https://localhost:8080/"
        },
        "id": "HESJZR7SgF6S",
        "outputId": "f78738b4-2205-4dec-c85c-82e7cdc1afd7"
      },
      "source": [
        "i=1\r\n",
        "while i<6:\r\n",
        "  i+=1\r\n",
        "  if i==3:\r\n",
        "    continue\r\n",
        "  print(i)"
      ],
      "execution_count": 93,
      "outputs": [
        {
          "output_type": "stream",
          "text": [
            "2\n",
            "4\n",
            "5\n",
            "6\n"
          ],
          "name": "stdout"
        }
      ]
    },
    {
      "cell_type": "code",
      "metadata": {
        "colab": {
          "base_uri": "https://localhost:8080/"
        },
        "id": "04KU7xZOhAvM",
        "outputId": "5febcba9-50ad-4d01-9f1a-28f330efa901"
      },
      "source": [
        "x=int(input(\"enter \"))\r\n",
        "i=0\r\n",
        "sum=0\r\n",
        "while i<=x:\r\n",
        "  sum=sum+i\r\n",
        "  i+=1\r\n",
        "print(sum)"
      ],
      "execution_count": 104,
      "outputs": [
        {
          "output_type": "stream",
          "text": [
            "enter 5\n",
            "15\n"
          ],
          "name": "stdout"
        }
      ]
    },
    {
      "cell_type": "code",
      "metadata": {
        "colab": {
          "base_uri": "https://localhost:8080/"
        },
        "id": "pKH_NlGaj9yM",
        "outputId": "19431d86-2d67-4e0d-acaa-115fa4a7bc2c"
      },
      "source": [
        "x=int(input(\"enter \"))\r\n",
        "sum=0\r\n",
        "while x>=0:\r\n",
        "  sum=sum+x\r\n",
        "  x-=1\r\n",
        "print(sum)"
      ],
      "execution_count": 107,
      "outputs": [
        {
          "output_type": "stream",
          "text": [
            "enter 5\n",
            "15\n"
          ],
          "name": "stdout"
        }
      ]
    },
    {
      "cell_type": "code",
      "metadata": {
        "colab": {
          "base_uri": "https://localhost:8080/"
        },
        "id": "PY59VchMluzN",
        "outputId": "19a99400-b959-482b-d827-1e88278223a2"
      },
      "source": [
        "fruits=[\"apple\",\"banana\",\"cherry\"]\r\n",
        "for x in \"apple\":\r\n",
        "  print(x)"
      ],
      "execution_count": 109,
      "outputs": [
        {
          "output_type": "stream",
          "text": [
            "a\n",
            "p\n",
            "p\n",
            "l\n",
            "e\n"
          ],
          "name": "stdout"
        }
      ]
    },
    {
      "cell_type": "code",
      "metadata": {
        "colab": {
          "base_uri": "https://localhost:8080/"
        },
        "id": "Vt2nGeDGm267",
        "outputId": "49652f5f-b032-45df-8fbf-b6dd854927da"
      },
      "source": [
        "for x in range(6):\r\n",
        "  print(x)"
      ],
      "execution_count": 114,
      "outputs": [
        {
          "output_type": "stream",
          "text": [
            "0\n",
            "1\n",
            "2\n",
            "3\n",
            "4\n",
            "5\n"
          ],
          "name": "stdout"
        }
      ]
    },
    {
      "cell_type": "code",
      "metadata": {
        "colab": {
          "base_uri": "https://localhost:8080/"
        },
        "id": "0E2uzH9HnUVL",
        "outputId": "6f1515b9-a271-4bd2-c4c9-fcfedfb60af5"
      },
      "source": [
        "for x in range(3,30,3):\r\n",
        "  print(x)"
      ],
      "execution_count": 116,
      "outputs": [
        {
          "output_type": "stream",
          "text": [
            "3\n",
            "6\n",
            "9\n",
            "12\n",
            "15\n",
            "18\n",
            "21\n",
            "24\n",
            "27\n"
          ],
          "name": "stdout"
        }
      ]
    },
    {
      "cell_type": "code",
      "metadata": {
        "colab": {
          "base_uri": "https://localhost:8080/"
        },
        "id": "RCIHtbyan8T7",
        "outputId": "98bad1e8-01a4-4f1e-abaf-6b6ce42ad7d1"
      },
      "source": [
        "adj=[\"red\",\"blue\",\"green\"]\r\n",
        "fruits=[\"apple\",\"banana\",\"grapes\"]\r\n",
        "for x in adj:\r\n",
        "  for y in fruits:\r\n",
        "    print(x,y)"
      ],
      "execution_count": 118,
      "outputs": [
        {
          "output_type": "stream",
          "text": [
            "red apple\n",
            "red banana\n",
            "red grapes\n",
            "blue apple\n",
            "blue banana\n",
            "blue grapes\n",
            "green apple\n",
            "green banana\n",
            "green grapes\n"
          ],
          "name": "stdout"
        }
      ]
    },
    {
      "cell_type": "code",
      "metadata": {
        "colab": {
          "base_uri": "https://localhost:8080/"
        },
        "id": "JokkrYA6pxW8",
        "outputId": "50262c92-1ab2-4d86-e6a9-8c448370fa9c"
      },
      "source": [
        "even=[]\r\n",
        "odd=[]\r\n",
        "n=int(input(\"enter the number \"))\r\n",
        "for i in range(1,n+1):\r\n",
        "  if (i%2==1):\r\n",
        "    odd.append(i)\r\n",
        "  else:\r\n",
        "    even.append(i)\r\n",
        "print(odd)\r\n",
        "print(even)"
      ],
      "execution_count": 141,
      "outputs": [
        {
          "output_type": "stream",
          "text": [
            "enter the number 5\n",
            "[1, 3, 5]\n",
            "[2, 4]\n"
          ],
          "name": "stdout"
        }
      ]
    },
    {
      "cell_type": "code",
      "metadata": {
        "colab": {
          "base_uri": "https://localhost:8080/"
        },
        "id": "lEamvM5XA14F",
        "outputId": "aba01e39-8dd7-45d5-ec43-ee89a6637b5f"
      },
      "source": [
        "for x in range(1,21):\r\n",
        "  print(x)"
      ],
      "execution_count": 145,
      "outputs": [
        {
          "output_type": "stream",
          "text": [
            "1\n",
            "2\n",
            "3\n",
            "4\n",
            "5\n",
            "6\n",
            "7\n",
            "8\n",
            "9\n",
            "10\n",
            "11\n",
            "12\n",
            "13\n",
            "14\n",
            "15\n",
            "16\n",
            "17\n",
            "18\n",
            "19\n",
            "20\n"
          ],
          "name": "stdout"
        }
      ]
    },
    {
      "cell_type": "code",
      "metadata": {
        "colab": {
          "base_uri": "https://localhost:8080/"
        },
        "id": "7f24BYPwBw3P",
        "outputId": "044bc9aa-d5b3-4248-f391-8ff676577afd"
      },
      "source": [
        "mylist=[]\r\n",
        "for i in range(1,21):\r\n",
        "  mylist.append(i)\r\n",
        "print(mylist)"
      ],
      "execution_count": 150,
      "outputs": [
        {
          "output_type": "stream",
          "text": [
            "[1, 2, 3, 4, 5, 6, 7, 8, 9, 10, 11, 12, 13, 14, 15, 16, 17, 18, 19, 20]\n"
          ],
          "name": "stdout"
        }
      ]
    },
    {
      "cell_type": "code",
      "metadata": {
        "colab": {
          "base_uri": "https://localhost:8080/"
        },
        "id": "LOpN8zUGDSlG",
        "outputId": "644662d1-6fbb-499a-9b8d-dc8c0646ea04"
      },
      "source": [
        "evenlist=[i for i in range(1,21)if i%2==0]\r\n",
        "print(evenlist)"
      ],
      "execution_count": 158,
      "outputs": [
        {
          "output_type": "stream",
          "text": [
            "[2, 4, 6, 8, 10, 12, 14, 16, 18, 20]\n"
          ],
          "name": "stdout"
        }
      ]
    },
    {
      "cell_type": "code",
      "metadata": {
        "colab": {
          "base_uri": "https://localhost:8080/"
        },
        "id": "8m2BNmdXE4Y-",
        "outputId": "ad28a74f-a1d1-481b-ad12-0d5ff15cf114"
      },
      "source": [
        "odd=[i*i for i in range(1,21)if i%2!=0]\r\n",
        "print(odd)"
      ],
      "execution_count": 159,
      "outputs": [
        {
          "output_type": "stream",
          "text": [
            "[1, 9, 25, 49, 81, 121, 169, 225, 289, 361]\n"
          ],
          "name": "stdout"
        }
      ]
    },
    {
      "cell_type": "code",
      "metadata": {
        "colab": {
          "base_uri": "https://localhost:8080/"
        },
        "id": "TYA2mEkgFUNt",
        "outputId": "9c17cd26-5f84-45da-e156-ff3b724ad871"
      },
      "source": [
        "if -1:\r\n",
        "  print(\"shinichi\")\r\n",
        "else:\r\n",
        "  print(\"kudo\")"
      ],
      "execution_count": 162,
      "outputs": [
        {
          "output_type": "stream",
          "text": [
            "shinichi\n"
          ],
          "name": "stdout"
        }
      ]
    },
    {
      "cell_type": "code",
      "metadata": {
        "colab": {
          "base_uri": "https://localhost:8080/"
        },
        "id": "faMBLJHrGoP-",
        "outputId": "3279cb47-e75b-4300-c006-bd719646a4b1"
      },
      "source": [
        "mylist=[1,1,2,3,4]\r\n",
        "print(all(mylist))"
      ],
      "execution_count": 163,
      "outputs": [
        {
          "output_type": "stream",
          "text": [
            "True\n"
          ],
          "name": "stdout"
        }
      ]
    },
    {
      "cell_type": "code",
      "metadata": {
        "colab": {
          "base_uri": "https://localhost:8080/"
        },
        "id": "fEHjwgYUG0b2",
        "outputId": "153f10af-701d-40c6-feeb-f06da98ec12c"
      },
      "source": [
        "mylist=[1,1,2,3,4,0]\r\n",
        "print(all(mylist))"
      ],
      "execution_count": 164,
      "outputs": [
        {
          "output_type": "stream",
          "text": [
            "False\n"
          ],
          "name": "stdout"
        }
      ]
    },
    {
      "cell_type": "code",
      "metadata": {
        "colab": {
          "base_uri": "https://localhost:8080/"
        },
        "id": "eL13ZkxGHUmV",
        "outputId": "e942d623-5d6a-4e80-98ab-e692095b95c8"
      },
      "source": [
        "list=[]\r\n",
        "for i in range(2,21):\r\n",
        "  isPrime=True\r\n",
        "  for j in range(2,i):\r\n",
        "    if i%j==0:\r\n",
        "      isPrime=False\r\n",
        "  if isPrime:\r\n",
        "    list.append(i)\r\n",
        "print(list)"
      ],
      "execution_count": 178,
      "outputs": [
        {
          "output_type": "stream",
          "text": [
            "[2, 3, 5, 7, 11, 13, 17, 19]\n"
          ],
          "name": "stdout"
        }
      ]
    },
    {
      "cell_type": "code",
      "metadata": {
        "colab": {
          "base_uri": "https://localhost:8080/"
        },
        "id": "u8elrlvEJRU3",
        "outputId": "617a0df9-5d3b-41c8-a4cb-3a63f5bd85ad"
      },
      "source": [
        "primelist=[i for i in range(2,21)if all(i%j!=0 for j in range(2,i))]\r\n",
        "print(primelist)"
      ],
      "execution_count": 179,
      "outputs": [
        {
          "output_type": "stream",
          "text": [
            "[2, 3, 5, 7, 11, 13, 17, 19]\n"
          ],
          "name": "stdout"
        }
      ]
    },
    {
      "cell_type": "code",
      "metadata": {
        "colab": {
          "base_uri": "https://localhost:8080/"
        },
        "id": "e-1UjGkdMZA6",
        "outputId": "64f717f8-cbe5-4673-99bb-4e96d6ed5331"
      },
      "source": [
        "print(all([7%j!=0 for j in range(2,7)]))"
      ],
      "execution_count": 187,
      "outputs": [
        {
          "output_type": "stream",
          "text": [
            "True\n"
          ],
          "name": "stdout"
        }
      ]
    },
    {
      "cell_type": "code",
      "metadata": {
        "colab": {
          "base_uri": "https://localhost:8080/"
        },
        "id": "6JDZhoAQOffO",
        "outputId": "a79077b2-5af3-48b9-ab17-58146b8cf9a2"
      },
      "source": [
        "sqr=[(i*i) for i in range(1,26)if i*i<25]\r\n",
        "print(sqr)"
      ],
      "execution_count": 191,
      "outputs": [
        {
          "output_type": "stream",
          "text": [
            "[1, 4, 9, 16]\n"
          ],
          "name": "stdout"
        }
      ]
    },
    {
      "cell_type": "code",
      "metadata": {
        "colab": {
          "base_uri": "https://localhost:8080/"
        },
        "id": "mOSUmA5iU-W_",
        "outputId": "60b4423d-ad0e-4b6c-f64b-e0ad922a9c33"
      },
      "source": [
        "def my_function(a,b,c=3):\r\n",
        "  print(a,b,c)\r\n",
        "my_function(\"jack\",\"jill\")\r\n"
      ],
      "execution_count": 198,
      "outputs": [
        {
          "output_type": "stream",
          "text": [
            "jack jill 3\n"
          ],
          "name": "stdout"
        }
      ]
    },
    {
      "cell_type": "code",
      "metadata": {
        "colab": {
          "base_uri": "https://localhost:8080/"
        },
        "id": "mG31-LHEcpkw",
        "outputId": "a61cea51-bc22-4d40-8629-814ec9441088"
      },
      "source": [
        "lst=[\"shreyas\",\"pawan\",\"rakshith\",\"shashank\"]   #list\r\n",
        "print(lst)"
      ],
      "execution_count": 199,
      "outputs": [
        {
          "output_type": "stream",
          "text": [
            "['shreyas', 'pawan', 'rakshith', 'shashank']\n"
          ],
          "name": "stdout"
        }
      ]
    },
    {
      "cell_type": "code",
      "metadata": {
        "colab": {
          "base_uri": "https://localhost:8080/"
        },
        "id": "5lX0CYY8dCfG",
        "outputId": "5a483b8f-9230-4a18-d2c8-df320f5dbc1c"
      },
      "source": [
        "physics=int(input())\r\n",
        "chemistry=int(input())\r\n",
        "print(\"shreyas =\"+str(physics+chemistry))"
      ],
      "execution_count": 207,
      "outputs": [
        {
          "output_type": "stream",
          "text": [
            "10\n",
            "10\n",
            "shreyas =20\n"
          ],
          "name": "stdout"
        }
      ]
    },
    {
      "cell_type": "code",
      "metadata": {
        "colab": {
          "base_uri": "https://localhost:8080/"
        },
        "id": "03LDBT_YefPX",
        "outputId": "5e6febf3-d2c7-40fb-b1b4-a1bfd933c89b"
      },
      "source": [
        "physics=int(input())\r\n",
        "chemistry=int(input())\r\n",
        "print(\"shinichi =\"+str(physics+chemistry))"
      ],
      "execution_count": 208,
      "outputs": [
        {
          "output_type": "stream",
          "text": [
            "10\n",
            "10\n",
            "shinichi =20\n"
          ],
          "name": "stdout"
        }
      ]
    },
    {
      "cell_type": "code",
      "metadata": {
        "colab": {
          "base_uri": "https://localhost:8080/"
        },
        "id": "cfA8Gt4ce6mO",
        "outputId": "6a28db8b-583b-41af-d473-5ac2a40fdf7b"
      },
      "source": [
        "def marks11(name):\r\n",
        "  physics=int(input(\"enter\" + name + \" physics marks\"))\r\n",
        "  chemistry=int(input(\"enter\" + name + \" chemistry marks\"))\r\n",
        "  return physics+chemistry\r\n",
        "st=[\"jack\",\"jill\",\"yuiji\",\"satoru\"]\r\n",
        "for i in st:\r\n",
        "  print(marks(i))"
      ],
      "execution_count": 219,
      "outputs": [
        {
          "output_type": "stream",
          "text": [
            "enterjack physics marks10\n",
            "enterjack chemistry marks10\n",
            "20\n",
            "enterjill physics marks10\n",
            "enterjill chemistry marks10\n",
            "20\n",
            "enteryuiji physics marks10\n",
            "enteryuiji chemistry marks0\n",
            "10\n",
            "entersatoru physics marks10\n",
            "entersatoru chemistry marks0\n",
            "10\n"
          ],
          "name": "stdout"
        }
      ]
    }
  ]
}