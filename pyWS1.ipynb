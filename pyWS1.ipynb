{
  "nbformat": 4,
  "nbformat_minor": 0,
  "metadata": {
    "colab": {
      "name": "pyWS1.ipynb",
      "provenance": [],
      "authorship_tag": "ABX9TyNW89hPFUUBDdrb9DeSUB1D",
      "include_colab_link": true
    },
    "kernelspec": {
      "name": "python3",
      "display_name": "Python 3"
    }
  },
  "cells": [
    {
      "cell_type": "markdown",
      "metadata": {
        "id": "view-in-github",
        "colab_type": "text"
      },
      "source": [
        "<a href=\"https://colab.research.google.com/github/shreyasmoolya007/python_workshop/blob/main/pyWS1.ipynb\" target=\"_parent\"><img src=\"https://colab.research.google.com/assets/colab-badge.svg\" alt=\"Open In Colab\"/></a>"
      ]
    },
    {
      "cell_type": "code",
      "metadata": {
        "colab": {
          "base_uri": "https://localhost:8080/"
        },
        "id": "DtGVeQzUpeDD",
        "outputId": "29284975-f728-4786-f971-39bb5daf5e9b"
      },
      "source": [
        "x=input(\"Enter the value\")\r\n",
        "y=\"John\"\r\n",
        "print(x)\r\n",
        "print(y)"
      ],
      "execution_count": 11,
      "outputs": [
        {
          "output_type": "stream",
          "text": [
            "Enter the value 7\n",
            "7\n",
            "John\n"
          ],
          "name": "stdout"
        }
      ]
    },
    {
      "cell_type": "code",
      "metadata": {
        "colab": {
          "base_uri": "https://localhost:8080/"
        },
        "id": "OpNjWFotxd1z",
        "outputId": "799309b0-bd6f-451b-8235-c9ff41db2809"
      },
      "source": [
        "x,y,z=5,\"Banana\",7.89\r\n",
        "print(int(x))\r\n",
        "print(str(y))\r\n",
        "print(float(z))"
      ],
      "execution_count": 17,
      "outputs": [
        {
          "output_type": "stream",
          "text": [
            "5\n",
            "Banana\n",
            "7.89\n"
          ],
          "name": "stdout"
        }
      ]
    },
    {
      "cell_type": "code",
      "metadata": {
        "colab": {
          "base_uri": "https://localhost:8080/"
        },
        "id": "ieo3pLhYy21Z",
        "outputId": "a445eef8-8fd2-4cae-9d69-028b605ee191"
      },
      "source": [
        "x=7\r\n",
        "def funs():\r\n",
        "  y=3\r\n",
        "  z=x+y\r\n",
        "  print(z)\r\n",
        "funs()"
      ],
      "execution_count": 20,
      "outputs": [
        {
          "output_type": "stream",
          "text": [
            "10\n"
          ],
          "name": "stdout"
        }
      ]
    },
    {
      "cell_type": "markdown",
      "metadata": {
        "id": "PYU1ERrT16zy"
      },
      "source": [
        "#Exercise 1"
      ]
    },
    {
      "cell_type": "code",
      "metadata": {
        "colab": {
          "base_uri": "https://localhost:8080/"
        },
        "id": "F-afQTqy1ZkS",
        "outputId": "ecd8f9fb-6e61-4918-96e8-b2dd85744f4e"
      },
      "source": [
        "carname=\"volvo\"\r\n",
        "print(carname)"
      ],
      "execution_count": 22,
      "outputs": [
        {
          "output_type": "stream",
          "text": [
            "volvo\n"
          ],
          "name": "stdout"
        }
      ]
    },
    {
      "cell_type": "markdown",
      "metadata": {
        "id": "4TXIiGwn2mxR"
      },
      "source": [
        "#Exercise 2\r\n"
      ]
    },
    {
      "cell_type": "code",
      "metadata": {
        "colab": {
          "base_uri": "https://localhost:8080/"
        },
        "id": "0xoAyG9c2HLx",
        "outputId": "1e9d8dd0-4abb-4771-a91c-9c7949a2c5ff"
      },
      "source": [
        "x=\"50\"\r\n",
        "print(type(x))"
      ],
      "execution_count": 24,
      "outputs": [
        {
          "output_type": "stream",
          "text": [
            "<class 'str'>\n"
          ],
          "name": "stdout"
        }
      ]
    },
    {
      "cell_type": "markdown",
      "metadata": {
        "id": "UgqXarB83bRC"
      },
      "source": [
        "#Exercise 3"
      ]
    },
    {
      "cell_type": "code",
      "metadata": {
        "colab": {
          "base_uri": "https://localhost:8080/"
        },
        "id": "M-ZJ-NaS21PT",
        "outputId": "93c9e7a3-7fba-4d01-d5d6-695b883fcc45"
      },
      "source": [
        "x,y=5,10"
      ],
      "execution_count": 27,
      "outputs": [
        {
          "output_type": "stream",
          "text": [
            "15\n"
          ],
          "name": "stdout"
        }
      ]
    },
    {
      "cell_type": "markdown",
      "metadata": {
        "id": "4ERrbxVe4d0S"
      },
      "source": [
        "#Exercise 4"
      ]
    },
    {
      "cell_type": "code",
      "metadata": {
        "colab": {
          "base_uri": "https://localhost:8080/"
        },
        "id": "7sKgxM9m3nv6",
        "outputId": "8edc7546-646e-4dcf-b3c1-acf24110e4ac"
      },
      "source": [
        "x,y,z=11,17,x+y\r\n",
        "print(z)"
      ],
      "execution_count": 30,
      "outputs": [
        {
          "output_type": "stream",
          "text": [
            "28\n"
          ],
          "name": "stdout"
        }
      ]
    },
    {
      "cell_type": "markdown",
      "metadata": {
        "id": "I-Q10MXqr5xz"
      },
      "source": [
        "Hello World Program"
      ]
    },
    {
      "cell_type": "code",
      "metadata": {
        "id": "8L9-9Dn1PrMs"
      },
      "source": [
        "x1=\"Hello World\"\r\n",
        "x2=5\r\n",
        "x3=5.6\r\n",
        "x4=[\"apple\",\"bannana\",\"cherry\"]\r\n",
        "x5=(\"apple\",\"bannana\",\"cherry\")\r\n",
        "x6=range(6)\r\n",
        "x7={\"name\":\"Jhonwick\",\"age\":36}\r\n",
        "x8={\"apple\",\"bannana\",\"cherry\"}\r\n",
        "x9=False"
      ],
      "execution_count": 49,
      "outputs": []
    },
    {
      "cell_type": "code",
      "metadata": {
        "colab": {
          "base_uri": "https://localhost:8080/"
        },
        "id": "XpC_ReLCRcGC",
        "outputId": "d7bc5ce0-5d7b-4d41-9f5c-cb695c2abb78"
      },
      "source": [
        "print(type(x1))\r\n",
        "print(type(x2))\r\n",
        "print(type(x3))\r\n",
        "print(type(x4))\r\n",
        "print(type(x5))\r\n",
        "print(type(x6))\r\n",
        "print(type(x7))\r\n",
        "print(type(x8))\r\n",
        "print(type(x9))"
      ],
      "execution_count": 34,
      "outputs": [
        {
          "output_type": "stream",
          "text": [
            "<class 'str'>\n",
            "<class 'int'>\n",
            "<class 'float'>\n",
            "<class 'list'>\n",
            "<class 'tuple'>\n",
            "<class 'range'>\n",
            "<class 'dict'>\n",
            "<class 'set'>\n",
            "<class 'bool'>\n"
          ],
          "name": "stdout"
        }
      ]
    },
    {
      "cell_type": "code",
      "metadata": {
        "colab": {
          "base_uri": "https://localhost:8080/"
        },
        "id": "e9cwvSlTVPuD",
        "outputId": "7fecf35a-373a-48f7-df87-7d00b1c43a61"
      },
      "source": [
        "x=range(6)\r\n",
        "for n in x:\r\n",
        " print(n)"
      ],
      "execution_count": 39,
      "outputs": [
        {
          "output_type": "stream",
          "text": [
            "0\n",
            "1\n",
            "2\n",
            "3\n",
            "4\n",
            "5\n"
          ],
          "name": "stdout"
        }
      ]
    },
    {
      "cell_type": "code",
      "metadata": {
        "colab": {
          "base_uri": "https://localhost:8080/"
        },
        "id": "mCnYXjuOV5zS",
        "outputId": "dfc9611f-b326-4a03-a11e-5805344c0f2c"
      },
      "source": [
        "x=range(1,5,2)\r\n",
        "print(set(x))"
      ],
      "execution_count": 43,
      "outputs": [
        {
          "output_type": "stream",
          "text": [
            "{1, 3}\n"
          ],
          "name": "stdout"
        }
      ]
    },
    {
      "cell_type": "code",
      "metadata": {
        "colab": {
          "base_uri": "https://localhost:8080/"
        },
        "id": "40j9F0iiWNnC",
        "outputId": "fedade72-71a9-4ef5-d8d5-500ee225587d"
      },
      "source": [
        "x={1,2,3,2}\r\n",
        "print(list(x))"
      ],
      "execution_count": 45,
      "outputs": [
        {
          "output_type": "stream",
          "text": [
            "[1, 2, 3]\n"
          ],
          "name": "stdout"
        }
      ]
    },
    {
      "cell_type": "code",
      "metadata": {
        "colab": {
          "base_uri": "https://localhost:8080/"
        },
        "id": "kXizbguRXrgD",
        "outputId": "c025b415-a04f-4a34-b53a-07b5a188533a"
      },
      "source": [
        "x=range(6)\r\n",
        "print(bool(0))"
      ],
      "execution_count": 55,
      "outputs": [
        {
          "output_type": "stream",
          "text": [
            "False\n"
          ],
          "name": "stdout"
        }
      ]
    },
    {
      "cell_type": "code",
      "metadata": {
        "colab": {
          "base_uri": "https://localhost:8080/"
        },
        "id": "9YkK1NKAYmZz",
        "outputId": "c7553b50-ff0a-4904-bdce-2be71363a03e"
      },
      "source": [
        "x,y,z=1,2.0,1j\r\n",
        "a,b,c=float(x),int(y),complex(z)\r\n",
        "print(a)\r\n",
        "print(b)\r\n",
        "print(c)"
      ],
      "execution_count": 65,
      "outputs": [
        {
          "output_type": "stream",
          "text": [
            "1.0\n",
            "2\n",
            "1j\n"
          ],
          "name": "stdout"
        }
      ]
    },
    {
      "cell_type": "markdown",
      "metadata": {
        "id": "tXDMrYzkcwwR"
      },
      "source": [
        "#Exercise 5"
      ]
    },
    {
      "cell_type": "code",
      "metadata": {
        "colab": {
          "base_uri": "https://localhost:8080/"
        },
        "id": "OsrvxEL4amI2",
        "outputId": "14c90b56-6473-46cc-8122-1f429d037c8e"
      },
      "source": [
        "x,y=str(2),str(3)\r\n",
        "print(\"x+y=\"+x+y)"
      ],
      "execution_count": 168,
      "outputs": [
        {
          "output_type": "stream",
          "text": [
            "x+y=23\n"
          ],
          "name": "stdout"
        }
      ]
    },
    {
      "cell_type": "code",
      "metadata": {
        "colab": {
          "base_uri": "https://localhost:8080/"
        },
        "id": "00NSWmE1dzDu",
        "outputId": "a871cda9-aff1-47a9-dcec-01fbe7e59953"
      },
      "source": [
        "name=\"Jay\"\r\n",
        "print(name)\r\n",
        "print(type(name))\r\n",
        "print(name[2])\r\n",
        "print(len(name))"
      ],
      "execution_count": 169,
      "outputs": [
        {
          "output_type": "stream",
          "text": [
            "Jay\n",
            "<class 'str'>\n",
            "y\n",
            "3\n"
          ],
          "name": "stdout"
        }
      ]
    },
    {
      "cell_type": "code",
      "metadata": {
        "colab": {
          "base_uri": "https://localhost:8080/"
        },
        "id": "uqEEPKu-fZal",
        "outputId": "35a0710a-7ff1-4ae0-a067-3731b9726076"
      },
      "source": [
        "txt=\"pawan kun wa baka des\"\r\n",
        "print(\"pawan\"in txt)"
      ],
      "execution_count": 170,
      "outputs": [
        {
          "output_type": "stream",
          "text": [
            "True\n"
          ],
          "name": "stdout"
        }
      ]
    },
    {
      "cell_type": "code",
      "metadata": {
        "colab": {
          "base_uri": "https://localhost:8080/"
        },
        "id": "GK2y_LV9jQOD",
        "outputId": "babbec2e-59ee-4630-ebe3-812e0d128740"
      },
      "source": [
        "age=36\r\n",
        "txt=\"My name is Shinichi, I am {}\"\r\n",
        "print(txt.format(age))"
      ],
      "execution_count": 171,
      "outputs": [
        {
          "output_type": "stream",
          "text": [
            "My name is Shinichi, I am 36\n"
          ],
          "name": "stdout"
        }
      ]
    },
    {
      "cell_type": "code",
      "metadata": {
        "colab": {
          "base_uri": "https://localhost:8080/"
        },
        "id": "o-TPUhfIgNL6",
        "outputId": "65d5e072-250b-4b91-f4bd-fbc40b0e0702"
      },
      "source": [
        "txt=\"pawan kun wa baka des\"\r\n",
        "print(txt[-8:-4])"
      ],
      "execution_count": 172,
      "outputs": [
        {
          "output_type": "stream",
          "text": [
            "baka\n"
          ],
          "name": "stdout"
        }
      ]
    },
    {
      "cell_type": "code",
      "metadata": {
        "colab": {
          "base_uri": "https://localhost:8080/"
        },
        "id": "YZqthbkZh22r",
        "outputId": "36bf922e-f8b3-4b16-92f0-996bee0bf90d"
      },
      "source": [
        "a=\"Gojo satoru\"\r\n",
        "print(a.upper())"
      ],
      "execution_count": 173,
      "outputs": [
        {
          "output_type": "stream",
          "text": [
            "GOJO SATORU\n"
          ],
          "name": "stdout"
        }
      ]
    },
    {
      "cell_type": "code",
      "metadata": {
        "colab": {
          "base_uri": "https://localhost:8080/"
        },
        "id": "IksXrmX4ilYl",
        "outputId": "768602ba-9241-4231-9b08-b7dab444eaf3"
      },
      "source": [
        "a=\"Itadori \"\r\n",
        "b=\"Yuiji\"\r\n",
        "c=a+b\r\n",
        "print(a+b)"
      ],
      "execution_count": 174,
      "outputs": [
        {
          "output_type": "stream",
          "text": [
            "Itadori Yuiji\n"
          ],
          "name": "stdout"
        }
      ]
    },
    {
      "cell_type": "code",
      "metadata": {
        "colab": {
          "base_uri": "https://localhost:8080/"
        },
        "id": "w7YwWx3giGN6",
        "outputId": "d36abaaa-e464-4c54-e937-10315878a62d"
      },
      "source": [
        "txt=\"Hello\\nworld\"\r\n",
        "print(txt)"
      ],
      "execution_count": 175,
      "outputs": [
        {
          "output_type": "stream",
          "text": [
            "Hello\n",
            "world\n"
          ],
          "name": "stdout"
        }
      ]
    },
    {
      "cell_type": "code",
      "metadata": {
        "colab": {
          "base_uri": "https://localhost:8080/"
        },
        "id": "uEZjPVKlk06r",
        "outputId": "981ea444-b3ff-4a1a-d7f7-509126439bb5"
      },
      "source": [
        "txt=\"shinichikudo\"\r\n",
        "print(txt.isalpha())"
      ],
      "execution_count": 176,
      "outputs": [
        {
          "output_type": "stream",
          "text": [
            "True\n"
          ],
          "name": "stdout"
        }
      ]
    },
    {
      "cell_type": "code",
      "metadata": {
        "colab": {
          "base_uri": "https://localhost:8080/"
        },
        "id": "dZSW5I5a18f1",
        "outputId": "6cf929ae-b141-48ce-b58f-0339e67f2050"
      },
      "source": [
        "inp=input(\"Enter something\")\r\n",
        "print(len(name))\r\n",
        "print(name[0:4])\r\n",
        "print(name.upper())\r\n",
        "print(inp+\"college\")\r\n",
        "inp=inp+\" {}\"\r\n",
        "print(inp.format(\"college\"))\r\n",
        "print(inp.isdigit())\r\n"
      ],
      "execution_count": 177,
      "outputs": [
        {
          "output_type": "stream",
          "text": [
            "Enter something5\n",
            "3\n",
            "Jay\n",
            "JAY\n",
            "5college\n",
            "5 college\n",
            "False\n"
          ],
          "name": "stdout"
        }
      ]
    },
    {
      "cell_type": "code",
      "metadata": {
        "colab": {
          "base_uri": "https://localhost:8080/"
        },
        "id": "VZbEjna169tc",
        "outputId": "91419f52-8cb4-4bc4-f698-bb92a673e60d"
      },
      "source": [
        "x=3\r\n",
        "x +=2\r\n",
        "print(x)"
      ],
      "execution_count": 178,
      "outputs": [
        {
          "output_type": "stream",
          "text": [
            "5\n"
          ],
          "name": "stdout"
        }
      ]
    },
    {
      "cell_type": "code",
      "metadata": {
        "colab": {
          "base_uri": "https://localhost:8080/"
        },
        "id": "Pj5ehJXV8geN",
        "outputId": "1eac23a2-80bb-45fc-92ae-e014e2b8728d"
      },
      "source": [
        "x=3\r\n",
        "y=2\r\n",
        "print(x>y)"
      ],
      "execution_count": 179,
      "outputs": [
        {
          "output_type": "stream",
          "text": [
            "True\n"
          ],
          "name": "stdout"
        }
      ]
    },
    {
      "cell_type": "code",
      "metadata": {
        "colab": {
          "base_uri": "https://localhost:8080/"
        },
        "id": "GFuq44ZW9m7d",
        "outputId": "524d21af-a0d5-41ad-ad3f-a5a8c22e75ec"
      },
      "source": [
        "print(2<5 and 5>2)"
      ],
      "execution_count": 180,
      "outputs": [
        {
          "output_type": "stream",
          "text": [
            "True\n"
          ],
          "name": "stdout"
        }
      ]
    },
    {
      "cell_type": "code",
      "metadata": {
        "colab": {
          "base_uri": "https://localhost:8080/"
        },
        "id": "UbTIJeuk-PGt",
        "outputId": "8188ad5b-cc50-4857-b74d-dcb3180d24f3"
      },
      "source": [
        "a=int(input(\"Enter the value\"))\r\n",
        "b=int(input(\"Enter the another value\"))\r\n",
        "print(a+b)\r\n",
        "print(a-b)\r\n",
        "print(a/b)\r\n",
        "print(a*b)\r\n",
        "print(a%b)\r\n",
        "print(a==b)\r\n",
        "print(a!=b)\r\n",
        "print(a>b)\r\n",
        "print(a<b)"
      ],
      "execution_count": 181,
      "outputs": [
        {
          "output_type": "stream",
          "text": [
            "Enter the value5\n",
            "Enter the another value5\n",
            "10\n",
            "0\n",
            "1.0\n",
            "25\n",
            "0\n",
            "True\n",
            "False\n",
            "False\n",
            "False\n"
          ],
          "name": "stdout"
        }
      ]
    },
    {
      "cell_type": "code",
      "metadata": {
        "id": "zXrBSG2LGInN"
      },
      "source": [
        ""
      ],
      "execution_count": 181,
      "outputs": []
    },
    {
      "cell_type": "code",
      "metadata": {
        "colab": {
          "base_uri": "https://localhost:8080/"
        },
        "id": "PjCFbfBnEoAn",
        "outputId": "e0f9f67b-749f-4514-c3c8-0704a6203a29"
      },
      "source": [
        "l=set((\"ece\",\"cse\",\"ise\"))\r\n",
        "print(l)"
      ],
      "execution_count": 182,
      "outputs": [
        {
          "output_type": "stream",
          "text": [
            "{'ise', 'ece', 'cse'}\n"
          ],
          "name": "stdout"
        }
      ]
    },
    {
      "cell_type": "code",
      "metadata": {
        "colab": {
          "base_uri": "https://localhost:8080/"
        },
        "id": "oKLpzuHQ_Qi9",
        "outputId": "9c6a97d8-c31b-4e37-fce1-62793566a8ab"
      },
      "source": [
        "l=[\"ece\",\"ise\",\"cse\",\"mech\",\"civil\"]\r\n",
        "print(l[2:5])"
      ],
      "execution_count": 183,
      "outputs": [
        {
          "output_type": "stream",
          "text": [
            "['cse', 'mech', 'civil']\n"
          ],
          "name": "stdout"
        }
      ]
    },
    {
      "cell_type": "code",
      "metadata": {
        "colab": {
          "base_uri": "https://localhost:8080/"
        },
        "id": "X18PfuNoHQFw",
        "outputId": "3fd43e97-7db0-45ed-e18c-be29a1c2048b"
      },
      "source": [
        "l=[\"cse\",\"ise\",\"mech\"]\r\n",
        "l[-1]=\"ML\"\r\n",
        "print(l)"
      ],
      "execution_count": 184,
      "outputs": [
        {
          "output_type": "stream",
          "text": [
            "['cse', 'ise', 'ML']\n"
          ],
          "name": "stdout"
        }
      ]
    },
    {
      "cell_type": "code",
      "metadata": {
        "colab": {
          "base_uri": "https://localhost:8080/"
        },
        "id": "Mlc21ZaiH4Yd",
        "outputId": "b793d0b4-1257-4d4f-97a9-21ec4a259bce"
      },
      "source": [
        "thislist=[\"apple\",\"banana\",\"cherry\"]\r\n",
        "print(len(thislist))\r\n",
        "thislist.append(\"orange\")\r\n",
        "print(thislist)\r\n",
        "print(len(thislist))"
      ],
      "execution_count": 185,
      "outputs": [
        {
          "output_type": "stream",
          "text": [
            "3\n",
            "['apple', 'banana', 'cherry', 'orange']\n",
            "4\n"
          ],
          "name": "stdout"
        }
      ]
    },
    {
      "cell_type": "code",
      "metadata": {
        "colab": {
          "base_uri": "https://localhost:8080/"
        },
        "id": "OmzY9ZtnI9uO",
        "outputId": "27a9cde6-d899-4029-a53f-b70e175884eb"
      },
      "source": [
        "thislist+[\"apple\",\"banana\",\"cherry\"]\r\n",
        "tropical=[\"mango\",\"pineapple\",\"papaya\"]\r\n",
        "newlist=thislist+tropical\r\n",
        "print(newlist)"
      ],
      "execution_count": 186,
      "outputs": [
        {
          "output_type": "stream",
          "text": [
            "['apple', 'banana', 'cherry', 'orange', 'mango', 'pineapple', 'papaya']\n"
          ],
          "name": "stdout"
        }
      ]
    },
    {
      "cell_type": "code",
      "metadata": {
        "colab": {
          "base_uri": "https://localhost:8080/"
        },
        "id": "aYOC5A1GJ9X4",
        "outputId": "deacd395-2333-432b-f2d2-7985e8452f1d"
      },
      "source": [
        "thislist=[\"apple\",\"banana\",\"cherry\"]\r\n",
        "print(len(thislist))\r\n",
        "thislist.pop(1)\r\n",
        "print(thislist)\r\n",
        "thislist.pop()\r\n",
        "print(thislist)\r\n",
        "print(len(thislist))"
      ],
      "execution_count": 187,
      "outputs": [
        {
          "output_type": "stream",
          "text": [
            "3\n",
            "['apple', 'cherry']\n",
            "['apple']\n",
            "1\n"
          ],
          "name": "stdout"
        }
      ]
    },
    {
      "cell_type": "code",
      "metadata": {
        "colab": {
          "base_uri": "https://localhost:8080/"
        },
        "id": "wPUHwKqUKuyu",
        "outputId": "f134ce29-ca7f-4958-a322-3733ce5bf455"
      },
      "source": [
        "thislist=[100,80,90,50,70]\r\n",
        "thislist.sort()\r\n",
        "print(thislist)"
      ],
      "execution_count": 188,
      "outputs": [
        {
          "output_type": "stream",
          "text": [
            "[50, 70, 80, 90, 100]\n"
          ],
          "name": "stdout"
        }
      ]
    },
    {
      "cell_type": "code",
      "metadata": {
        "colab": {
          "base_uri": "https://localhost:8080/"
        },
        "id": "O8kmePLfMkTe",
        "outputId": "03a23c8a-65e1-42b0-9aa9-2685120fae8c"
      },
      "source": [
        "namelist=['Harsh','Pratik','Bob','Dhruv']\r\n",
        "print(namelist[1])"
      ],
      "execution_count": 189,
      "outputs": [
        {
          "output_type": "stream",
          "text": [
            "Pratik\n"
          ],
          "name": "stdout"
        }
      ]
    },
    {
      "cell_type": "code",
      "metadata": {
        "colab": {
          "base_uri": "https://localhost:8080/"
        },
        "id": "3IOurGrSNQmP",
        "outputId": "b76e3348-0e05-404a-c518-cf28a9da8fce"
      },
      "source": [
        "animal=[\"cat\",\"dog\",\"fish\",\"goat\"]\r\n",
        "age=[1,2,2,6]\r\n",
        "new=animal+age\r\n",
        "print(new)"
      ],
      "execution_count": 190,
      "outputs": [
        {
          "output_type": "stream",
          "text": [
            "['cat', 'dog', 'fish', 'goat', 1, 2, 2, 6]\n"
          ],
          "name": "stdout"
        }
      ]
    },
    {
      "cell_type": "code",
      "metadata": {
        "colab": {
          "base_uri": "https://localhost:8080/"
        },
        "id": "x_7LI4o3Nwwk",
        "outputId": "10e630a0-af81-4792-8f89-739b6b6f3f05"
      },
      "source": [
        "animal=[\"cat\",\"dog\",\"fish\",\"goat\"]\r\n",
        "age=[1,2,2,6]\r\n",
        "animal.append(age)\r\n",
        "print(animal)"
      ],
      "execution_count": 196,
      "outputs": [
        {
          "output_type": "stream",
          "text": [
            "['cat', 'dog', 'fish', 'goat', [1, 2, 2, 6]]\n"
          ],
          "name": "stdout"
        }
      ]
    },
    {
      "cell_type": "code",
      "metadata": {
        "colab": {
          "base_uri": "https://localhost:8080/"
        },
        "id": "h0eJpdrsPtUD",
        "outputId": "5cea20ea-3dbd-4798-b353-a3f6bfc3299c"
      },
      "source": [
        "age=[1,2,3,6]\r\n",
        "age.append(9)\r\n",
        "print(age)\r\n",
        "age.pop(1)\r\n",
        "print(age)\r\n",
        "age.count(3)"
      ],
      "execution_count": 199,
      "outputs": [
        {
          "output_type": "stream",
          "text": [
            "[1, 2, 3, 6, 9]\n",
            "[1, 3, 6, 9]\n"
          ],
          "name": "stdout"
        },
        {
          "output_type": "execute_result",
          "data": {
            "text/plain": [
              "1"
            ]
          },
          "metadata": {
            "tags": []
          },
          "execution_count": 199
        }
      ]
    },
    {
      "cell_type": "code",
      "metadata": {
        "colab": {
          "base_uri": "https://localhost:8080/"
        },
        "id": "gfm5nRf8RIZo",
        "outputId": "698ced05-bfe1-42f4-c5d5-ae4fcea6872e"
      },
      "source": [
        "this=(\"apple\",\"banana\",\"cherry\")\r\n",
        "print(this)"
      ],
      "execution_count": 201,
      "outputs": [
        {
          "output_type": "stream",
          "text": [
            "('apple', 'banana', 'cherry')\n"
          ],
          "name": "stdout"
        }
      ]
    },
    {
      "cell_type": "code",
      "metadata": {
        "colab": {
          "base_uri": "https://localhost:8080/"
        },
        "id": "9TlB_CaqScam",
        "outputId": "905df3dc-4883-4417-ab75-e333a7ded3af"
      },
      "source": [
        "x=(\"apple\",\"banana\",\"cherry\")\r\n",
        "y=list(x)\r\n",
        "y[1]=\"kiwi\"\r\n",
        "x=tuple(y)\r\n",
        "print(x)\r\n",
        "print(type(x))\r\n",
        "print(type(y))"
      ],
      "execution_count": 206,
      "outputs": [
        {
          "output_type": "stream",
          "text": [
            "('apple', 'kiwi', 'cherry')\n",
            "<class 'tuple'>\n",
            "<class 'list'>\n"
          ],
          "name": "stdout"
        }
      ]
    },
    {
      "cell_type": "code",
      "metadata": {
        "colab": {
          "base_uri": "https://localhost:8080/"
        },
        "id": "jCbHEQTkTcLW",
        "outputId": "84edde1e-c40a-4955-9944-67fd68c4fda0"
      },
      "source": [
        "fruits=(\"apple\",\"banana\",\"cherry\")\r\n",
        "print(list(fruits))\r\n",
        "list(fruits).append(\"orange\")\r\n",
        "print(list(fruits))\r\n",
        "print(len(fruits))\r\n",
        "print(fruits[-1])"
      ],
      "execution_count": 215,
      "outputs": [
        {
          "output_type": "stream",
          "text": [
            "['apple', 'banana', 'cherry']\n",
            "['apple', 'banana', 'cherry']\n",
            "3\n",
            "cherry\n"
          ],
          "name": "stdout"
        }
      ]
    }
  ]
}